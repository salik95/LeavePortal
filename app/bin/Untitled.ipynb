{
 "cells": [
  {
   "cell_type": "code",
   "execution_count": 1,
   "metadata": {},
   "outputs": [],
   "source": [
    "import datetime "
   ]
  },
  {
   "cell_type": "code",
   "execution_count": 1,
   "metadata": {},
   "outputs": [],
   "source": [
    "from datetime import datetime , time\n",
    "from __future__ import division\n",
    "import calendar\n",
    "\n",
    "def add_months(sourcedate,months):\n",
    "     month = sourcedate.month - 1 + months\n",
    "     year = sourcedate.year + month // 12\n",
    "     month = month % 12 + 1\n",
    "     day = min(sourcedate.day,calendar.monthrange(year,month)[1])\n",
    "     return datetime(year,month,day)\n",
    "\n",
    "\n",
    "def update_general_leaves(date_of_joining, last_updated ,leaves_remaining, first_year,fiscal_year\n",
    "                          on_probation,probation_period, user , leaves_limit , leaves_availed,\n",
    "                         probation_leaves_limit):\n",
    "\n",
    "    current_time = datetime.today()\n",
    "    probation_ending_period = add_months(date_of_joining,probation_period)\n",
    "    days_in_probation = probation_ending_period - date_of_joining\n",
    "    time_since_probation = probation_ending_period-current_time\n",
    "    \n",
    "    if first_year:\n",
    "        \n",
    "        if (probation_ending_period >= current_time):\n",
    "            return leaves_remaining\n",
    "            ##update in database\n",
    "        elif current_time  <  fiscal_year :\n",
    "            #IS not on probation \n",
    "            # Assumption first year rule applies from end of probation to start of new fisca year        \n",
    "            days_in_year = 366 if calendar.isleap(fiscal_year.year) else 365\n",
    "            remaining_days = days_in_year - days_in_probation\n",
    "            leaves_per_day = (leaves_limit-probation_leaves_limit)/ remaining_days\n",
    "            leaves_remaining = ((time_since_probation * leaves_per_day) + leaves_remaining) - leaves_availed\n",
    "            return leaves_remaining\n",
    "\n",
    "    else:\n",
    "        days_in_year = 366 if calendar.isleap(fiscal_year.year) else 365\n",
    "        leaves_per_day = leaves_limit / days_in_year\n",
    "        leaves_remaining = (days*leaves_per_day) + leaves_remaining\n",
    "        return leaves_remaining\n",
    "\n",
    "    if last_updated == date_of_joining:\n",
    "        date_for_calculation = add_months(date_of_joining,probation_period)\n",
    "    else:\n",
    "        date_for_calculation = last_updated\n",
    "\n",
    "    days = (current_time - date_for_calculation).days\n",
    "    print('current_time: ' , current_time , 'date_for_calculation : ' ,date_for_calculation  , 'days:' , days)\n",
    "    \n",
    "    days_in_year = 366 if calendar.isleap(current_time.year) else 365\n",
    "    leaves_per_day = leaves_limit / days_in_year\n",
    "    print leaves_per_day , days\n",
    "    leaves_remaining = (days*leaves_per_day) + leaves_remaining\n",
    "\n",
    "    return leaves_remaining"
   ]
  },
  {
   "cell_type": "code",
   "execution_count": 2,
   "metadata": {},
   "outputs": [
    {
     "name": "stdout",
     "output_type": "stream",
     "text": [
      "('current_time: ', datetime.datetime(2018, 3, 20, 15, 58, 4, 337935), 'date_for_calculation : ', datetime.datetime(2018, 1, 1, 0, 0), 'days:', 78)\n",
      "0.0684931506849 78\n"
     ]
    },
    {
     "data": {
      "text/plain": [
       "10.342465753424658"
      ]
     },
     "execution_count": 2,
     "metadata": {},
     "output_type": "execute_result"
    }
   ],
   "source": [
    "update_general_leaves(date_of_joining = datetime(2017,3,19),\n",
    "last_updated = datetime(2018,1,1),\n",
    "leaves_remaining = 5,\n",
    "probation_period = 3,\n",
    "on_probation = 0,\n",
    "user = 1,\n",
    "leaves_limit = 25,\n",
    "leaves_availed = 0)"
   ]
  },
  {
   "cell_type": "code",
   "execution_count": null,
   "metadata": {},
   "outputs": [],
   "source": []
  },
  {
   "cell_type": "code",
   "execution_count": null,
   "metadata": {},
   "outputs": [],
   "source": []
  },
  {
   "cell_type": "code",
   "execution_count": null,
   "metadata": {},
   "outputs": [],
   "source": []
  },
  {
   "cell_type": "code",
   "execution_count": null,
   "metadata": {},
   "outputs": [],
   "source": []
  },
  {
   "cell_type": "code",
   "execution_count": null,
   "metadata": {},
   "outputs": [],
   "source": []
  },
  {
   "cell_type": "code",
   "execution_count": null,
   "metadata": {},
   "outputs": [],
   "source": []
  },
  {
   "cell_type": "code",
   "execution_count": null,
   "metadata": {},
   "outputs": [],
   "source": []
  },
  {
   "cell_type": "code",
   "execution_count": 72,
   "metadata": {},
   "outputs": [],
   "source": [
    "from datetime import datetime , time\n",
    "from __future__ import division\n",
    "import calendar\n",
    "\n",
    "def add_months(sourcedate,months):\n",
    "     month = sourcedate.month - 1 + months\n",
    "     year = sourcedate.year + month // 12\n",
    "     month = month % 12 + 1\n",
    "     day = min(sourcedate.day,calendar.monthrange(year,month)[1])\n",
    "     return datetime(year,month,day)\n",
    "\n",
    "\n",
    "def update_general_leaves(date_of_joining ,leaves_remaining, first_year, fiscal_year,\n",
    "                            probation_period, user , leaves_limit , leaves_availed,\n",
    "                         probation_leaves_limit , current_time=None):\n",
    "    if current_time == None:\n",
    "        current_time = datetime.today()\n",
    "        \n",
    "    probation_ending_period = add_months(date_of_joining,probation_period)\n",
    "    days_in_probation = (probation_ending_period - date_of_joining).days\n",
    "    time_since_probation = (current_time - probation_ending_period).days\n",
    "        \n",
    "    if first_year:\n",
    "        \n",
    "        if (probation_ending_period >= current_time):\n",
    "            print(time_since_probation)\n",
    "            return leaves_remaining\n",
    "            ##update in database\n",
    "        elif current_time  <  fiscal_year :\n",
    "            #IS not on probation \n",
    "            # Assumption first year rule applies from end of probation to start of new fisca year        \n",
    "            days_in_year = 366 if calendar.isleap(fiscal_year.year) else 365\n",
    "            remaining_days = days_in_year - days_in_probation\n",
    "            leaves_per_day = (leaves_limit-probation_leaves_limit)/ remaining_days\n",
    "            leaves_remaining = ((time_since_probation * leaves_per_day) + leaves_remaining) - leaves_availed\n",
    "            print (time_since_probation)\n",
    "            return leaves_remaining\n",
    "\n",
    "    else:\n",
    "        days =( current_time - fiscal_year).days \n",
    "        days_in_year = 366 if calendar.isleap(fiscal_year.year) else 365\n",
    "        leaves_per_day = leaves_limit / days_in_year\n",
    "        leaves_remaining = (days*leaves_per_day) + leaves_remaining\n",
    "        return leaves_remaining\n",
    "\n",
    "\n",
    "\n",
    "    return leaves_remaining"
   ]
  },
  {
   "cell_type": "code",
   "execution_count": 75,
   "metadata": {},
   "outputs": [
    {
     "data": {
      "text/plain": [
       "25.0"
      ]
     },
     "execution_count": 75,
     "metadata": {},
     "output_type": "execute_result"
    }
   ],
   "source": [
    "update_general_leaves(\n",
    "    date_of_joining = datetime(2018,6,1),\n",
    "    leaves_remaining = 0,\n",
    "    first_year = 0,\n",
    "    fiscal_year = datetime(2019,7 ,1) ,                     \n",
    "    probation_period = 3,\n",
    "    user = 1,\n",
    "    leaves_limit = 25,\n",
    "    leaves_availed = 0,\n",
    "    probation_leaves_limit=5,\n",
    "    current_time = datetime(2020,6,30)\n",
    ")"
   ]
  },
  {
   "cell_type": "code",
   "execution_count": null,
   "metadata": {},
   "outputs": [],
   "source": []
  },
  {
   "cell_type": "code",
   "execution_count": null,
   "metadata": {},
   "outputs": [],
   "source": []
  },
  {
   "cell_type": "code",
   "execution_count": null,
   "metadata": {},
   "outputs": [],
   "source": []
  }
 ],
 "metadata": {
  "kernelspec": {
   "display_name": "Python 2",
   "language": "python",
   "name": "python2"
  },
  "language_info": {
   "codemirror_mode": {
    "name": "ipython",
    "version": 2
   },
   "file_extension": ".py",
   "mimetype": "text/x-python",
   "name": "python",
   "nbconvert_exporter": "python",
   "pygments_lexer": "ipython2",
   "version": "2.7.12"
  }
 },
 "nbformat": 4,
 "nbformat_minor": 2
}
