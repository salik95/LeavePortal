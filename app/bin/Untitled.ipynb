{
 "cells": [
  {
   "cell_type": "code",
   "execution_count": 70,
   "metadata": {},
   "outputs": [],
   "source": [
    "from datetime import datetime , time , timedelta\n",
    "from __future__ import division\n",
    "import calendar\n",
    "\n",
    "def add_months(sourcedate,months):\n",
    "     month = sourcedate.month - 1 + months\n",
    "     year = sourcedate.year + month // 12\n",
    "     month = month % 12 + 1\n",
    "     day = min(sourcedate.day,calendar.monthrange(year,month)[1])\n",
    "     return datetime(year,month,day)\n",
    "\n",
    "\n",
    "def update_general_leaves(date_of_joining , last_updated ,leaves_remaining ,leaves_in_probation, first_year, fiscal_year,\n",
    "                          probation_period, user , leaves_limit , leaves_availed,\n",
    "                         probation_leaves_limit , current_time=None):\n",
    "    \n",
    "    if current_time == None:\n",
    "        current_time = datetime.today()\n",
    "    probation_ending_period = add_months(date_of_joining,probation_period)\n",
    "    days_in_probation = (probation_ending_period - date_of_joining).days\n",
    "    \n",
    "\n",
    "        \n",
    "    if first_year:\n",
    "\n",
    "        if date_of_joining == last_updated:\n",
    "            time_since_last_update = (current_time - probation_ending_period).days\n",
    "        else:  \n",
    "            time_since_last_update = (current_time - last_updated).days\n",
    "        \n",
    "        \n",
    "        if (probation_ending_period >= current_time):\n",
    "            return (leaves_in_probation - leaves_availed)\n",
    "        else :\n",
    "            #IS not on probation \n",
    "            # Assumption first year rule applies from end of probation to start of new fisca year  \n",
    "            days_in_year = 366 if calendar.isleap(fiscal_year.year) else 365\n",
    "            remaining_days = days_in_year - days_in_probation\n",
    "            leaves_per_day = (leaves_limit-probation_leaves_limit)/ remaining_days\n",
    "            leaves_remaining = ((time_since_last_update * leaves_per_day) + leaves_remaining) - leaves_availed\n",
    "\n",
    "    else:\n",
    "        print('a')\n",
    "        fiscal_year = fiscal_year.replace(fiscal_year.year-1)\n",
    "        if fiscal_year == last_updated:\n",
    "            time_since_last_update = ((current_time - fiscal_year).days)\n",
    "        else:  \n",
    "            time_since_last_update = (current_time - last_updated).days\n",
    "            \n",
    "        days_in_year = 366 if calendar.isleap(fiscal_year.year) else 365\n",
    "        leaves_per_day = leaves_limit / days_in_year\n",
    "        leaves_remaining = (time_since_last_update *leaves_per_day)+ leaves_remaining - leaves_availed\n",
    "        return leaves_remaining\n",
    "\n",
    "\n",
    "    last_day_of_fiscal_year = fiscal_year - timedelta(days=1)\n",
    "    if current_time.day == last_day_of_fiscal_year.day  and  current_time.month == last_day_of_fiscal_year.month:\n",
    "        leaves_remaining = leaves_remaining + leaves_per_day\n",
    "        \n",
    "    return  leaves_remaining\n",
    "\n"
   ]
  },
  {
   "cell_type": "code",
   "execution_count": 78,
   "metadata": {},
   "outputs": [
    {
     "name": "stdout",
     "output_type": "stream",
     "text": [
      "a\n"
     ]
    },
    {
     "data": {
      "text/plain": [
       "25.0"
      ]
     },
     "execution_count": 78,
     "metadata": {},
     "output_type": "execute_result"
    }
   ],
   "source": [
    "update_general_leaves(\n",
    "    date_of_joining = datetime(2018,7,1), \n",
    "    last_updated = datetime(2020,1,30),\n",
    "    leaves_remaining = 14.58904109589041,\n",
    "    leaves_in_probation =5 ,\n",
    "    first_year = False,\n",
    "    fiscal_year =  datetime(2020,7,1),\n",
    "    probation_period = 3,\n",
    "    user = 1,\n",
    "    leaves_limit = 25,\n",
    "    leaves_availed = 0,\n",
    "    probation_leaves_limit = 5 ,\n",
    "    current_time=datetime(2020,6,30)\n",
    ")"
   ]
  },
  {
   "cell_type": "code",
   "execution_count": 80,
   "metadata": {},
   "outputs": [],
   "source": [
    "from dateutil.relativedelta import relativedelta\n"
   ]
  },
  {
   "cell_type": "code",
   "execution_count": 108,
   "metadata": {},
   "outputs": [
    {
     "data": {
      "text/plain": [
       "1"
      ]
     },
     "execution_count": 108,
     "metadata": {},
     "output_type": "execute_result"
    }
   ],
   "source": [
    "today = datetime(2018,6,30)\n",
    "fiscal_year = datetime(2018,7,1)\n",
    "perminent_date = datetime(2018,8,1)\n",
    "sofy = fiscal_year - relativedelta(years=1)\n",
    "dsofy = abs((today-sofy).days)\n",
    "dsofe = abs((today - perminent_date).days)\n",
    "1 if dsofy > dsofe else 0"
   ]
  },
  {
   "cell_type": "code",
   "execution_count": 169,
   "metadata": {},
   "outputs": [
    {
     "data": {
      "text/plain": [
       "1"
      ]
     },
     "execution_count": 169,
     "metadata": {},
     "output_type": "execute_result"
    }
   ],
   "source": [
    "def add_months(sourcedate,months):\n",
    "     month = sourcedate.month - 1 + months\n",
    "     year = sourcedate.year + month // 12\n",
    "     month = month % 12 + 1\n",
    "     day = min(sourcedate.day,calendar.monthrange(year,month)[1])\n",
    "     return datetime(year,month,day)\n",
    "\n",
    "    \n",
    "def is_first_year(today , fiscal_year , doj, probation_period ):\n",
    "    if today==None:\n",
    "        today = datetime.now().date()\n",
    "    fiscal_year = datetime.strptime(fiscal_year , '%Y-%m-%d')\n",
    "    today = today.date()\n",
    "    fiscal_year = datetime(2018,7,1)\n",
    "    perminent_date = (add_months(doj , probation_period)).date()\n",
    "    sofy = (fiscal_year - relativedelta(years=1)).date()\n",
    "    dsofy = abs((today-sofy).days)\n",
    "    dsofe = abs((today - perminent_date).days)\n",
    "    return 1 if dsofy > dsofe else 0\n",
    "\n",
    "is_first_year(today=datetime(2018,7,1) , fiscal_year='2018-07-01' , doj=datetime(2018,5,1) , probation_period=3 )"
   ]
  },
  {
   "cell_type": "code",
   "execution_count": null,
   "metadata": {},
   "outputs": [],
   "source": []
  },
  {
   "cell_type": "code",
   "execution_count": null,
   "metadata": {},
   "outputs": [],
   "source": []
  },
  {
   "cell_type": "code",
   "execution_count": null,
   "metadata": {},
   "outputs": [],
   "source": []
  },
  {
   "cell_type": "code",
   "execution_count": null,
   "metadata": {},
   "outputs": [],
   "source": []
  },
  {
   "cell_type": "code",
   "execution_count": null,
   "metadata": {},
   "outputs": [],
   "source": []
  },
  {
   "cell_type": "code",
   "execution_count": null,
   "metadata": {},
   "outputs": [],
   "source": []
  },
  {
   "cell_type": "code",
   "execution_count": null,
   "metadata": {},
   "outputs": [],
   "source": []
  },
  {
   "cell_type": "code",
   "execution_count": null,
   "metadata": {},
   "outputs": [],
   "source": []
  },
  {
   "cell_type": "code",
   "execution_count": null,
   "metadata": {},
   "outputs": [],
   "source": []
  },
  {
   "cell_type": "code",
   "execution_count": null,
   "metadata": {},
   "outputs": [],
   "source": []
  },
  {
   "cell_type": "code",
   "execution_count": null,
   "metadata": {},
   "outputs": [],
   "source": []
  },
  {
   "cell_type": "code",
   "execution_count": null,
   "metadata": {},
   "outputs": [],
   "source": []
  },
  {
   "cell_type": "code",
   "execution_count": null,
   "metadata": {},
   "outputs": [],
   "source": []
  }
 ],
 "metadata": {
  "kernelspec": {
   "display_name": "Python 2",
   "language": "python",
   "name": "python2"
  },
  "language_info": {
   "codemirror_mode": {
    "name": "ipython",
    "version": 2
   },
   "file_extension": ".py",
   "mimetype": "text/x-python",
   "name": "python",
   "nbconvert_exporter": "python",
   "pygments_lexer": "ipython2",
   "version": "2.7.12"
  }
 },
 "nbformat": 4,
 "nbformat_minor": 2
}
