{
 "cells": [
  {
   "cell_type": "code",
   "execution_count": 2,
   "metadata": {},
   "outputs": [],
   "source": [
    "import pandas as pd"
   ]
  },
  {
   "cell_type": "code",
   "execution_count": 9,
   "metadata": {},
   "outputs": [],
   "source": [
    "data = pd.DataFrame(columns=['email', 'role',\\\n",
    "'first_name', 'last_name' , 'designation',\\\n",
    "'department' , 'date_of_joining' , 'reporting_manager_id' ,\\\n",
    "'general_leaves_remaining' , 'medical_leaves_remaining' , 'probation',\\\n",
    "'general_leaves_availed', 'medical_leaves_availed'\n",
    "])"
   ]
  },
  {
   "cell_type": "code",
   "execution_count": 10,
   "metadata": {},
   "outputs": [],
   "source": [
    "data.to_csv('temp.csv',  index=False)"
   ]
  },
  {
   "cell_type": "code",
   "execution_count": 11,
   "metadata": {},
   "outputs": [],
   "source": [
    "import csv"
   ]
  },
  {
   "cell_type": "code",
   "execution_count": 23,
   "metadata": {},
   "outputs": [],
   "source": [
    "with open('temp.csv') as csvfile:\n",
    "    reader = csv.reader(csvfile, delimiter=' ', quotechar='|')\n",
    "    #csv_keys = reader[0] \n",
    "    list_of_elemet = []\n",
    "    for index, row in enumerate(reader):\n",
    "        if index == 0:\n",
    "            keys = row\n",
    "        else:\n",
    "            list_of_elemet.append(row)"
   ]
  },
  {
   "cell_type": "code",
   "execution_count": 24,
   "metadata": {},
   "outputs": [
    {
     "data": {
      "text/plain": [
       "[['arsalanjaved2010@fmail.com,HR,arwsals,Jadb,afg,HR,2001-05-05,awdf,50,5,0,5,20']]"
      ]
     },
     "execution_count": 24,
     "metadata": {},
     "output_type": "execute_result"
    }
   ],
   "source": [
    "list_of_elemet"
   ]
  },
  {
   "cell_type": "code",
   "execution_count": 30,
   "metadata": {},
   "outputs": [],
   "source": [
    "a = dict(zip([1, 2, 3, 4], ['a', 'b', 'c', 'd']))"
   ]
  },
  {
   "cell_type": "code",
   "execution_count": 32,
   "metadata": {},
   "outputs": [
    {
     "data": {
      "text/plain": [
       "[1, 2, 3, 4]"
      ]
     },
     "execution_count": 32,
     "metadata": {},
     "output_type": "execute_result"
    }
   ],
   "source": [
    "a.keys()"
   ]
  },
  {
   "cell_type": "code",
   "execution_count": null,
   "metadata": {},
   "outputs": [],
   "source": []
  },
  {
   "cell_type": "code",
   "execution_count": 27,
   "metadata": {},
   "outputs": [],
   "source": [
    "a = ['email,role,first_name,last_name,designation,department,date_of_joining,reporting_manager_email,general_leaves_remaining,medical_leaves_remaining,probation,general_leaves_availed,medical_leaves_availed']"
   ]
  },
  {
   "cell_type": "code",
   "execution_count": 29,
   "metadata": {},
   "outputs": [
    {
     "data": {
      "text/plain": [
       "['email',\n",
       " 'role',\n",
       " 'first_name',\n",
       " 'last_name',\n",
       " 'designation',\n",
       " 'department',\n",
       " 'date_of_joining',\n",
       " 'reporting_manager_email',\n",
       " 'general_leaves_remaining',\n",
       " 'medical_leaves_remaining',\n",
       " 'probation',\n",
       " 'general_leaves_availed',\n",
       " 'medical_leaves_availed']"
      ]
     },
     "execution_count": 29,
     "metadata": {},
     "output_type": "execute_result"
    }
   ],
   "source": [
    "a[0].split(',')"
   ]
  },
  {
   "cell_type": "code",
   "execution_count": null,
   "metadata": {},
   "outputs": [],
   "source": []
  }
 ],
 "metadata": {
  "kernelspec": {
   "display_name": "Python 2",
   "language": "python",
   "name": "python2"
  },
  "language_info": {
   "codemirror_mode": {
    "name": "ipython",
    "version": 2
   },
   "file_extension": ".py",
   "mimetype": "text/x-python",
   "name": "python",
   "nbconvert_exporter": "python",
   "pygments_lexer": "ipython2",
   "version": "2.7.12"
  }
 },
 "nbformat": 4,
 "nbformat_minor": 2
}
